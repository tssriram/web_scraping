{
  "nbformat": 4,
  "nbformat_minor": 0,
  "metadata": {
    "colab": {
      "name": "masters_scrape.ipynb",
      "provenance": [],
      "collapsed_sections": [],
      "authorship_tag": "ABX9TyMdHnEB0mmJCsLLfLKg0IYo",
      "include_colab_link": true
    },
    "kernelspec": {
      "name": "python3",
      "display_name": "Python 3"
    },
    "language_info": {
      "name": "python"
    }
  },
  "cells": [
    {
      "cell_type": "markdown",
      "metadata": {
        "id": "view-in-github",
        "colab_type": "text"
      },
      "source": [
        "<a href=\"https://colab.research.google.com/github/tssriram/web_scraping/blob/main/masters_scrape.ipynb\" target=\"_parent\"><img src=\"https://colab.research.google.com/assets/colab-badge.svg\" alt=\"Open In Colab\"/></a>"
      ]
    },
    {
      "cell_type": "code",
      "execution_count": null,
      "metadata": {
        "id": "6Af0syQjWMGi"
      },
      "outputs": [],
      "source": [
        "import requests\n",
        "import pandas as pd\n",
        "import numpy as np\n",
        "import time\n",
        "import warnings\n",
        "warnings.filterwarnings(\"ignore\")\n",
        "from tqdm import tqdm\n",
        "import json  \n",
        "from pandas.io.json import json_normalize \n",
        "import asyncio\n",
        "#!pip install aiohttp\n",
        "import aiohttp\n",
        "import nest_asyncio\n",
        "nest_asyncio.apply()\n",
        "from asyncio import ensure_future, gather\n",
        "#!pip install flatten-json\n",
        "from flatten_json import flatten"
      ]
    },
    {
      "cell_type": "code",
      "source": [
        "async def request_controller(urls):\n",
        "    session_timeout = aiohttp.ClientTimeout(total=None)\n",
        "    async with aiohttp.ClientSession(timeout=session_timeout) as session:\n",
        "        tasks = [ensure_future(request_worker(session, url)) for url in urls]\n",
        "        results = await gather(*tasks)\n",
        "    return results\n",
        "\n",
        "async def request_worker(session, url):\n",
        "    async with session.get(url) as response:\n",
        "        pbar.update(1)\n",
        "        return await response.json()"
      ],
      "metadata": {
        "id": "JpQTTIdKWMwu"
      },
      "execution_count": null,
      "outputs": []
    },
    {
      "cell_type": "code",
      "source": [
        "urls=[]\n",
        "url_a='https://search-facets.prtl.co/?q=lv-master|uc-108|tc-EUR&facets=[\"ci\"]'\n",
        "params=requests.get(url_a)\n",
        "\n",
        "country = json_normalize(params.json()['ci']).transpose()\n",
        "country.index=country.index.astype(int)"
      ],
      "metadata": {
        "id": "Wz_SbUCEV-9m"
      },
      "execution_count": null,
      "outputs": []
    },
    {
      "cell_type": "code",
      "source": [
        "sum(country.iloc[:,0])"
      ],
      "metadata": {
        "colab": {
          "base_uri": "https://localhost:8080/"
        },
        "id": "spq_Vm1q5pe-",
        "outputId": "502a5943-195a-4267-f1ae-779c5eb05d9d"
      },
      "execution_count": null,
      "outputs": [
        {
          "output_type": "execute_result",
          "data": {
            "text/plain": [
              "79738"
            ]
          },
          "metadata": {},
          "execution_count": 62
        }
      ]
    },
    {
      "cell_type": "code",
      "source": [
        "for t in country.index: \n",
        "  url_b='https://search-facets.prtl.co/?q=ci-%s|lv-master|uc-108|tc-EUR&facets=[\"di\"]' % (t)\n",
        "  params=requests.get(url_b)\n",
        "\n",
        "  category = json_normalize(params.json()['di']).transpose()\n",
        "  category.index=category.index.astype(int)\n",
        "\n",
        "  for i in category.index:\n",
        "    for j in np.arange(0,int(category.loc[i]),100):\n",
        "      urls.append('https://search.prtl.co/2018-07-23/?q=en-2425|ci-%s|di-%s|lv-master&size=100&start=%s' % (t,i,j))"
      ],
      "metadata": {
        "id": "dAEkVkyWWqkZ"
      },
      "execution_count": null,
      "outputs": []
    },
    {
      "cell_type": "code",
      "source": [
        "limit=len(urls)\n",
        "pbar=tqdm(total=limit);"
      ],
      "metadata": {
        "colab": {
          "base_uri": "https://localhost:8080/"
        },
        "id": "jhryseTwTF_j",
        "outputId": "db26ed7c-b54d-42a3-98f3-b1b61f053b44"
      },
      "execution_count": null,
      "outputs": [
        {
          "output_type": "stream",
          "name": "stderr",
          "text": [
            "21044it [1:02:41,  5.59it/s]"
          ]
        }
      ]
    },
    {
      "cell_type": "code",
      "source": [
        "loop = asyncio.get_event_loop()\n",
        "results = loop.run_until_complete(request_controller(urls))\n",
        "tqdm._instances.clear()"
      ],
      "metadata": {
        "colab": {
          "base_uri": "https://localhost:8080/"
        },
        "id": "KncTxcGrWs5S",
        "outputId": "1c2cb997-28ca-40f6-f655-140606fa9acb"
      },
      "execution_count": null,
      "outputs": [
        {
          "output_type": "stream",
          "name": "stderr",
          "text": [
            "100%|█████████▉| 12303/12316 [02:05<00:00, 254.29it/s]"
          ]
        }
      ]
    },
    {
      "cell_type": "code",
      "source": [
        "data=pd.DataFrame()\n",
        "l=[]\n",
        "for h in tqdm(range(0,len(results))):  \n",
        "\n",
        "  if results[h] != []:\n",
        "    df=pd.DataFrame([flatten(d) for d in results[h]])\n",
        "\n",
        "    if 'fulltime_duration_value' not in df:\n",
        "      df['fulltime_duration_value'] = np.nan \n",
        "    if 'fulltime_duration_unit' not in df:\n",
        "      df['fulltime_duration_unit'] = np.nan\n",
        "    if 'tuition_fee_value' not in df:\n",
        "      df['tuition_fee_value'] = np.nan\n",
        "    if 'tuition_fee_unit' not in df:\n",
        "      df['tuition_fee_unit'] = np.nan\n",
        "    if 'tuition_fee_currency' not in df:\n",
        "      df['tuition_fee_currency'] = np.nan\n",
        "    if 'organisation' not in df:\n",
        "      df['organisation'] = np.nan\n",
        "    if 'venues_0_city' not in df:\n",
        "      df['venues_0_city'] = np.nan\n",
        "    if 'venues_0_country' not in df:\n",
        "      df['venues_0_country'] = np.nan\n",
        "    if 'venues_0_area' not in df:\n",
        "      df['venues_0_area'] = np.nan\n",
        "    if 'venues_1_city' not in df:\n",
        "      df['venues_1_city'] = np.nan\n",
        "    if 'venues_1_country' not in df:\n",
        "      df['venues_1_country'] = np.nan\n",
        "    if 'venues_1_area' not in df:\n",
        "      df['venues_1_area'] = np.nan\n",
        "    if 'parttime_duration_value' not in df:\n",
        "      df['parttime_duration_value'] = np.nan\n",
        "    if 'parttime_duration_unit' not in df:\n",
        "      df['parttime_duration_unit'] = np.nan\n",
        "\n",
        "    df=df[['title','level','degree','organisation','tuition_fee_value','tuition_fee_unit','tuition_fee_currency','fulltime_duration_value','fulltime_duration_unit',\n",
        "           'density_parttime','density_fulltime','methods_face2face','methods_online','methods_blended','venues_0_city','venues_0_country','venues_0_area','venues_1_city',\n",
        "           'venues_1_country','venues_1_area','parttime_duration_value','parttime_duration_unit']]\n",
        "    l.append(df)\n",
        "\n",
        "data=pd.concat(l, ignore_index=True)"
      ],
      "metadata": {
        "colab": {
          "base_uri": "https://localhost:8080/"
        },
        "id": "gyE_iEHfUO7E",
        "outputId": "000e6979-f693-4e6f-dffc-ca85aecbcdfc"
      },
      "execution_count": null,
      "outputs": [
        {
          "output_type": "stream",
          "name": "stderr",
          "text": [
            "100%|██████████| 12316/12316 [01:05<00:00, 186.92it/s]\n"
          ]
        }
      ]
    },
    {
      "cell_type": "code",
      "source": [
        "data=data.drop_duplicates()"
      ],
      "metadata": {
        "id": "QDSEhq1LLZez"
      },
      "execution_count": null,
      "outputs": []
    },
    {
      "cell_type": "code",
      "source": [
        "len(data)"
      ],
      "metadata": {
        "colab": {
          "base_uri": "https://localhost:8080/"
        },
        "id": "pqiruc6JTbVi",
        "outputId": "408b523e-1c63-4f15-f661-50c45db0baaf"
      },
      "execution_count": null,
      "outputs": [
        {
          "output_type": "execute_result",
          "data": {
            "text/plain": [
              "78858"
            ]
          },
          "metadata": {},
          "execution_count": 127
        }
      ]
    },
    {
      "cell_type": "code",
      "source": [
        "from google.colab import files\n",
        "\n",
        "data=data.reset_index(drop=True) \n",
        "data.to_excel('masters.xlsx',index=False)\n",
        "files.download('masters.xlsx')"
      ],
      "metadata": {
        "colab": {
          "base_uri": "https://localhost:8080/",
          "height": 17
        },
        "id": "ATCiy1l_fBNd",
        "outputId": "cf0bdb93-f5af-48f8-b2df-b3209e36d969"
      },
      "execution_count": null,
      "outputs": [
        {
          "output_type": "display_data",
          "data": {
            "text/plain": [
              "<IPython.core.display.Javascript object>"
            ],
            "application/javascript": [
              "\n",
              "    async function download(id, filename, size) {\n",
              "      if (!google.colab.kernel.accessAllowed) {\n",
              "        return;\n",
              "      }\n",
              "      const div = document.createElement('div');\n",
              "      const label = document.createElement('label');\n",
              "      label.textContent = `Downloading \"${filename}\": `;\n",
              "      div.appendChild(label);\n",
              "      const progress = document.createElement('progress');\n",
              "      progress.max = size;\n",
              "      div.appendChild(progress);\n",
              "      document.body.appendChild(div);\n",
              "\n",
              "      const buffers = [];\n",
              "      let downloaded = 0;\n",
              "\n",
              "      const channel = await google.colab.kernel.comms.open(id);\n",
              "      // Send a message to notify the kernel that we're ready.\n",
              "      channel.send({})\n",
              "\n",
              "      for await (const message of channel.messages) {\n",
              "        // Send a message to notify the kernel that we're ready.\n",
              "        channel.send({})\n",
              "        if (message.buffers) {\n",
              "          for (const buffer of message.buffers) {\n",
              "            buffers.push(buffer);\n",
              "            downloaded += buffer.byteLength;\n",
              "            progress.value = downloaded;\n",
              "          }\n",
              "        }\n",
              "      }\n",
              "      const blob = new Blob(buffers, {type: 'application/binary'});\n",
              "      const a = document.createElement('a');\n",
              "      a.href = window.URL.createObjectURL(blob);\n",
              "      a.download = filename;\n",
              "      div.appendChild(a);\n",
              "      a.click();\n",
              "      div.remove();\n",
              "    }\n",
              "  "
            ]
          },
          "metadata": {}
        },
        {
          "output_type": "display_data",
          "data": {
            "text/plain": [
              "<IPython.core.display.Javascript object>"
            ],
            "application/javascript": [
              "download(\"download_c291ca61-5f0a-4a35-81af-69907ed9df35\", \"masters.xlsx\", 7810267)"
            ]
          },
          "metadata": {}
        }
      ]
    }
  ]
}